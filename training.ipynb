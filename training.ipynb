{
 "cells": [
  {
   "cell_type": "code",
   "execution_count": 1,
   "metadata": {},
   "outputs": [],
   "source": [
    "from tensorflow.keras.layers import Input, Lambda, Dense, Flatten,Conv2D\n",
    "from tensorflow.keras.models import Model\n",
    "from tensorflow.keras.applications.vgg19 import VGG19\n",
    "from tensorflow.keras.applications.resnet50 import preprocess_input\n",
    "from tensorflow.keras.preprocessing import image\n",
    "from tensorflow.keras.preprocessing.image import ImageDataGenerator,load_img\n",
    "from tensorflow.keras.models import Sequential\n",
    "import numpy as np\n",
    "from glob import glob\n",
    "import matplotlib.pyplot as plt"
   ]
  },
  {
   "cell_type": "code",
   "execution_count": 2,
   "metadata": {},
   "outputs": [],
   "source": [
    "IMAGE_SIZE = [224, 224]\n",
    "\n",
    "train_path = 'cell_images/Train'\n",
    "valid_path = 'cell_images/Test'\n"
   ]
  },
  {
   "cell_type": "code",
   "execution_count": 3,
   "metadata": {},
   "outputs": [],
   "source": [
    "mobilnet = VGG19(input_shape=IMAGE_SIZE + [3], weights='imagenet', include_top=False)"
   ]
  },
  {
   "cell_type": "code",
   "execution_count": 4,
   "metadata": {},
   "outputs": [],
   "source": [
    "for layer in mobilnet.layers:\n",
    "    layer.trainable = False"
   ]
  },
  {
   "cell_type": "code",
   "execution_count": 5,
   "metadata": {},
   "outputs": [],
   "source": [
    "folders = glob('Dataset/Train/*')"
   ]
  },
  {
   "cell_type": "code",
   "execution_count": 6,
   "metadata": {},
   "outputs": [
    {
     "data": {
      "text/plain": [
       "['Dataset/Train\\\\Parasite', 'Dataset/Train\\\\Uninfected']"
      ]
     },
     "execution_count": 6,
     "metadata": {},
     "output_type": "execute_result"
    }
   ],
   "source": [
    "folders"
   ]
  },
  {
   "cell_type": "code",
   "execution_count": 7,
   "metadata": {},
   "outputs": [],
   "source": [
    "x = Flatten()(mobilnet.output)"
   ]
  },
  {
   "cell_type": "code",
   "execution_count": 8,
   "metadata": {},
   "outputs": [],
   "source": [
    "prediction = Dense(len(folders), activation='softmax')(x)\n",
    "model = Model(inputs=mobilnet.input, outputs=prediction)"
   ]
  },
  {
   "cell_type": "code",
   "execution_count": 9,
   "metadata": {},
   "outputs": [
    {
     "name": "stdout",
     "output_type": "stream",
     "text": [
      "Model: \"model\"\n",
      "_________________________________________________________________\n",
      "Layer (type)                 Output Shape              Param #   \n",
      "=================================================================\n",
      "input_1 (InputLayer)         [(None, 224, 224, 3)]     0         \n",
      "_________________________________________________________________\n",
      "block1_conv1 (Conv2D)        (None, 224, 224, 64)      1792      \n",
      "_________________________________________________________________\n",
      "block1_conv2 (Conv2D)        (None, 224, 224, 64)      36928     \n",
      "_________________________________________________________________\n",
      "block1_pool (MaxPooling2D)   (None, 112, 112, 64)      0         \n",
      "_________________________________________________________________\n",
      "block2_conv1 (Conv2D)        (None, 112, 112, 128)     73856     \n",
      "_________________________________________________________________\n",
      "block2_conv2 (Conv2D)        (None, 112, 112, 128)     147584    \n",
      "_________________________________________________________________\n",
      "block2_pool (MaxPooling2D)   (None, 56, 56, 128)       0         \n",
      "_________________________________________________________________\n",
      "block3_conv1 (Conv2D)        (None, 56, 56, 256)       295168    \n",
      "_________________________________________________________________\n",
      "block3_conv2 (Conv2D)        (None, 56, 56, 256)       590080    \n",
      "_________________________________________________________________\n",
      "block3_conv3 (Conv2D)        (None, 56, 56, 256)       590080    \n",
      "_________________________________________________________________\n",
      "block3_conv4 (Conv2D)        (None, 56, 56, 256)       590080    \n",
      "_________________________________________________________________\n",
      "block3_pool (MaxPooling2D)   (None, 28, 28, 256)       0         \n",
      "_________________________________________________________________\n",
      "block4_conv1 (Conv2D)        (None, 28, 28, 512)       1180160   \n",
      "_________________________________________________________________\n",
      "block4_conv2 (Conv2D)        (None, 28, 28, 512)       2359808   \n",
      "_________________________________________________________________\n",
      "block4_conv3 (Conv2D)        (None, 28, 28, 512)       2359808   \n",
      "_________________________________________________________________\n",
      "block4_conv4 (Conv2D)        (None, 28, 28, 512)       2359808   \n",
      "_________________________________________________________________\n",
      "block4_pool (MaxPooling2D)   (None, 14, 14, 512)       0         \n",
      "_________________________________________________________________\n",
      "block5_conv1 (Conv2D)        (None, 14, 14, 512)       2359808   \n",
      "_________________________________________________________________\n",
      "block5_conv2 (Conv2D)        (None, 14, 14, 512)       2359808   \n",
      "_________________________________________________________________\n",
      "block5_conv3 (Conv2D)        (None, 14, 14, 512)       2359808   \n",
      "_________________________________________________________________\n",
      "block5_conv4 (Conv2D)        (None, 14, 14, 512)       2359808   \n",
      "_________________________________________________________________\n",
      "block5_pool (MaxPooling2D)   (None, 7, 7, 512)         0         \n",
      "_________________________________________________________________\n",
      "flatten (Flatten)            (None, 25088)             0         \n",
      "_________________________________________________________________\n",
      "dense (Dense)                (None, 2)                 50178     \n",
      "=================================================================\n",
      "Total params: 20,074,562\n",
      "Trainable params: 50,178\n",
      "Non-trainable params: 20,024,384\n",
      "_________________________________________________________________\n"
     ]
    }
   ],
   "source": [
    "model.summary()"
   ]
  },
  {
   "cell_type": "code",
   "execution_count": 10,
   "metadata": {},
   "outputs": [],
   "source": [
    "from tensorflow.keras.layers import MaxPooling2D"
   ]
  },
  {
   "cell_type": "code",
   "execution_count": 11,
   "metadata": {},
   "outputs": [
    {
     "name": "stdout",
     "output_type": "stream",
     "text": [
      "Model: \"sequential\"\n",
      "_________________________________________________________________\n",
      "Layer (type)                 Output Shape              Param #   \n",
      "=================================================================\n",
      "conv2d (Conv2D)              (None, 224, 224, 16)      208       \n",
      "_________________________________________________________________\n",
      "max_pooling2d (MaxPooling2D) (None, 112, 112, 16)      0         \n",
      "_________________________________________________________________\n",
      "conv2d_1 (Conv2D)            (None, 112, 112, 32)      2080      \n",
      "_________________________________________________________________\n",
      "max_pooling2d_1 (MaxPooling2 (None, 56, 56, 32)        0         \n",
      "_________________________________________________________________\n",
      "conv2d_2 (Conv2D)            (None, 56, 56, 64)        8256      \n",
      "_________________________________________________________________\n",
      "max_pooling2d_2 (MaxPooling2 (None, 28, 28, 64)        0         \n",
      "_________________________________________________________________\n",
      "flatten_1 (Flatten)          (None, 50176)             0         \n",
      "_________________________________________________________________\n",
      "dense_1 (Dense)              (None, 500)               25088500  \n",
      "_________________________________________________________________\n",
      "dense_2 (Dense)              (None, 2)                 1002      \n",
      "=================================================================\n",
      "Total params: 25,100,046\n",
      "Trainable params: 25,100,046\n",
      "Non-trainable params: 0\n",
      "_________________________________________________________________\n"
     ]
    }
   ],
   "source": [
    "model=Sequential()\n",
    "model.add(Conv2D(filters=16,kernel_size=2,padding=\"same\",activation=\"relu\",input_shape=(224,224,3)))\n",
    "model.add(MaxPooling2D(pool_size=2))\n",
    "model.add(Conv2D(filters=32,kernel_size=2,padding=\"same\",activation =\"relu\"))\n",
    "model.add(MaxPooling2D(pool_size=2))\n",
    "model.add(Conv2D(filters=64,kernel_size=2,padding=\"same\",activation=\"relu\"))\n",
    "model.add(MaxPooling2D(pool_size=2))\n",
    "model.add(Flatten())\n",
    "model.add(Dense(500,activation=\"relu\"))\n",
    "model.add(Dense(2,activation=\"softmax\"))\n",
    "model.summary()"
   ]
  },
  {
   "cell_type": "code",
   "execution_count": 12,
   "metadata": {},
   "outputs": [],
   "source": [
    "model.compile(\n",
    "  loss='categorical_crossentropy',\n",
    "  optimizer='adam',\n",
    "  metrics=['accuracy']\n",
    ")"
   ]
  },
  {
   "cell_type": "code",
   "execution_count": 13,
   "metadata": {},
   "outputs": [],
   "source": [
    "from tensorflow.keras.preprocessing.image import ImageDataGenerator\n",
    "\n",
    "train_datagen = ImageDataGenerator(rescale = 1./255,\n",
    "                                   shear_range = 0.2,\n",
    "                                   zoom_range = 0.2,\n",
    "                                   horizontal_flip = True)\n",
    "\n",
    "test_datagen = ImageDataGenerator(rescale = 1./255)"
   ]
  },
  {
   "cell_type": "code",
   "execution_count": 14,
   "metadata": {},
   "outputs": [
    {
     "name": "stdout",
     "output_type": "stream",
     "text": [
      "Found 416 images belonging to 2 classes.\n"
     ]
    }
   ],
   "source": [
    "training_set = train_datagen.flow_from_directory('Dataset/Train',\n",
    "                                                 target_size = (224, 224),\n",
    "                                                 batch_size = 32,\n",
    "                                                 class_mode = 'categorical')"
   ]
  },
  {
   "cell_type": "code",
   "execution_count": 15,
   "metadata": {},
   "outputs": [
    {
     "data": {
      "text/plain": [
       "<tensorflow.python.keras.preprocessing.image.DirectoryIterator at 0x1d7c61eb9c8>"
      ]
     },
     "execution_count": 15,
     "metadata": {},
     "output_type": "execute_result"
    }
   ],
   "source": [
    "training_set"
   ]
  },
  {
   "cell_type": "code",
   "execution_count": 16,
   "metadata": {},
   "outputs": [
    {
     "name": "stdout",
     "output_type": "stream",
     "text": [
      "Found 134 images belonging to 2 classes.\n"
     ]
    }
   ],
   "source": [
    "test_set = test_datagen.flow_from_directory('Dataset/Test',\n",
    "                                            target_size = (224, 224),\n",
    "                                            batch_size = 32,\n",
    "                                            class_mode = 'categorical')"
   ]
  },
  {
   "cell_type": "code",
   "execution_count": 17,
   "metadata": {
    "scrolled": false
   },
   "outputs": [
    {
     "name": "stderr",
     "output_type": "stream",
     "text": [
      "C:\\Users\\AYAN JAMBHULKAR\\anaconda3\\lib\\site-packages\\tensorflow\\python\\keras\\engine\\training.py:1940: UserWarning: `Model.fit_generator` is deprecated and will be removed in a future version. Please use `Model.fit`, which supports generators.\n",
      "  warnings.warn('`Model.fit_generator` is deprecated and '\n"
     ]
    },
    {
     "name": "stdout",
     "output_type": "stream",
     "text": [
      "Epoch 1/50\n",
      "13/13 [==============================] - 21s 2s/step - loss: 2.5601 - accuracy: 0.4904 - val_loss: 0.8610 - val_accuracy: 0.3209\n",
      "Epoch 2/50\n",
      "13/13 [==============================] - 21s 2s/step - loss: 0.6953 - accuracy: 0.5216 - val_loss: 0.6846 - val_accuracy: 0.6493\n",
      "Epoch 3/50\n",
      "13/13 [==============================] - 19s 1s/step - loss: 0.6576 - accuracy: 0.6659 - val_loss: 0.6749 - val_accuracy: 0.6791\n",
      "Epoch 4/50\n",
      "13/13 [==============================] - 18s 1s/step - loss: 0.6754 - accuracy: 0.5553 - val_loss: 0.7658 - val_accuracy: 0.2985\n",
      "Epoch 5/50\n",
      "13/13 [==============================] - 18s 1s/step - loss: 0.6096 - accuracy: 0.6875 - val_loss: 0.9747 - val_accuracy: 0.3209\n",
      "Epoch 6/50\n",
      "13/13 [==============================] - 18s 1s/step - loss: 0.6038 - accuracy: 0.6514 - val_loss: 0.7715 - val_accuracy: 0.3955\n",
      "Epoch 7/50\n",
      "13/13 [==============================] - 19s 1s/step - loss: 0.5379 - accuracy: 0.7067 - val_loss: 0.8802 - val_accuracy: 0.3060\n",
      "Epoch 8/50\n",
      "13/13 [==============================] - 19s 1s/step - loss: 0.4733 - accuracy: 0.7596 - val_loss: 0.8999 - val_accuracy: 0.4776\n",
      "Epoch 9/50\n",
      "13/13 [==============================] - 19s 1s/step - loss: 0.5706 - accuracy: 0.7115 - val_loss: 1.2104 - val_accuracy: 0.3060\n",
      "Epoch 10/50\n",
      "13/13 [==============================] - 21s 2s/step - loss: 0.5988 - accuracy: 0.6683 - val_loss: 0.8837 - val_accuracy: 0.3134\n",
      "Epoch 11/50\n",
      "13/13 [==============================] - 18s 1s/step - loss: 0.5054 - accuracy: 0.7620 - val_loss: 0.8511 - val_accuracy: 0.3134\n",
      "Epoch 12/50\n",
      "13/13 [==============================] - 18s 1s/step - loss: 0.4600 - accuracy: 0.7644 - val_loss: 1.0982 - val_accuracy: 0.3209\n",
      "Epoch 13/50\n",
      "13/13 [==============================] - 19s 1s/step - loss: 0.4875 - accuracy: 0.7596 - val_loss: 1.0181 - val_accuracy: 0.3507\n",
      "Epoch 14/50\n",
      "13/13 [==============================] - 18s 1s/step - loss: 0.3997 - accuracy: 0.8245 - val_loss: 0.8811 - val_accuracy: 0.4030\n",
      "Epoch 15/50\n",
      "13/13 [==============================] - 18s 1s/step - loss: 0.3695 - accuracy: 0.8173 - val_loss: 0.9175 - val_accuracy: 0.4627\n",
      "Epoch 16/50\n",
      "13/13 [==============================] - 17s 1s/step - loss: 0.3252 - accuracy: 0.8726 - val_loss: 0.8411 - val_accuracy: 0.5149\n",
      "Epoch 17/50\n",
      "13/13 [==============================] - 16s 1s/step - loss: 0.3483 - accuracy: 0.8558 - val_loss: 0.7152 - val_accuracy: 0.5896\n",
      "Epoch 18/50\n",
      "13/13 [==============================] - 18s 1s/step - loss: 0.2976 - accuracy: 0.8534 - val_loss: 0.8330 - val_accuracy: 0.5522\n",
      "Epoch 19/50\n",
      "13/13 [==============================] - 20s 2s/step - loss: 0.2600 - accuracy: 0.8966 - val_loss: 0.6722 - val_accuracy: 0.6119\n",
      "Epoch 20/50\n",
      "13/13 [==============================] - 19s 1s/step - loss: 0.2135 - accuracy: 0.9135 - val_loss: 1.0461 - val_accuracy: 0.4925\n",
      "Epoch 21/50\n",
      "13/13 [==============================] - 19s 1s/step - loss: 0.2215 - accuracy: 0.9087 - val_loss: 0.6679 - val_accuracy: 0.6343\n",
      "Epoch 22/50\n",
      "13/13 [==============================] - 17s 1s/step - loss: 0.1936 - accuracy: 0.9207 - val_loss: 0.4425 - val_accuracy: 0.7612\n",
      "Epoch 23/50\n",
      "13/13 [==============================] - 19s 1s/step - loss: 0.1633 - accuracy: 0.9423 - val_loss: 0.6694 - val_accuracy: 0.7090\n",
      "Epoch 24/50\n",
      "13/13 [==============================] - 19s 1s/step - loss: 0.1526 - accuracy: 0.9447 - val_loss: 0.5596 - val_accuracy: 0.7239\n",
      "Epoch 25/50\n",
      "13/13 [==============================] - 19s 1s/step - loss: 0.1914 - accuracy: 0.9207 - val_loss: 0.5266 - val_accuracy: 0.7388\n",
      "Epoch 26/50\n",
      "13/13 [==============================] - 18s 1s/step - loss: 0.1296 - accuracy: 0.9615 - val_loss: 0.4898 - val_accuracy: 0.7836\n",
      "Epoch 27/50\n",
      "13/13 [==============================] - 18s 1s/step - loss: 0.1166 - accuracy: 0.9543 - val_loss: 0.3519 - val_accuracy: 0.8507\n",
      "Epoch 28/50\n",
      "13/13 [==============================] - 20s 2s/step - loss: 0.1041 - accuracy: 0.9639 - val_loss: 0.3915 - val_accuracy: 0.8433\n",
      "Epoch 29/50\n",
      "13/13 [==============================] - 19s 1s/step - loss: 0.0907 - accuracy: 0.9639 - val_loss: 0.2576 - val_accuracy: 0.8881\n",
      "Epoch 30/50\n",
      "13/13 [==============================] - 19s 1s/step - loss: 0.0906 - accuracy: 0.9760 - val_loss: 0.3611 - val_accuracy: 0.8582\n",
      "Epoch 31/50\n",
      "13/13 [==============================] - 18s 1s/step - loss: 0.1355 - accuracy: 0.9471 - val_loss: 0.3550 - val_accuracy: 0.8507\n",
      "Epoch 32/50\n",
      "13/13 [==============================] - 19s 1s/step - loss: 0.0864 - accuracy: 0.9784 - val_loss: 0.3082 - val_accuracy: 0.8731\n",
      "Epoch 33/50\n",
      "13/13 [==============================] - 18s 1s/step - loss: 0.1351 - accuracy: 0.9471 - val_loss: 0.3336 - val_accuracy: 0.8657\n",
      "Epoch 34/50\n",
      "13/13 [==============================] - 19s 1s/step - loss: 0.1667 - accuracy: 0.9423 - val_loss: 0.3784 - val_accuracy: 0.8358\n",
      "Epoch 35/50\n",
      "13/13 [==============================] - 21s 2s/step - loss: 0.0958 - accuracy: 0.9760 - val_loss: 0.2823 - val_accuracy: 0.8806\n",
      "Epoch 36/50\n",
      "13/13 [==============================] - 19s 1s/step - loss: 0.1010 - accuracy: 0.9712 - val_loss: 0.6836 - val_accuracy: 0.7687\n",
      "Epoch 37/50\n",
      "13/13 [==============================] - 20s 2s/step - loss: 0.1508 - accuracy: 0.9495 - val_loss: 0.3961 - val_accuracy: 0.8209\n",
      "Epoch 38/50\n",
      "13/13 [==============================] - 20s 1s/step - loss: 0.1006 - accuracy: 0.9712 - val_loss: 0.3011 - val_accuracy: 0.8731\n",
      "Epoch 39/50\n",
      "13/13 [==============================] - 21s 2s/step - loss: 0.0804 - accuracy: 0.9736 - val_loss: 0.2622 - val_accuracy: 0.9104\n",
      "Epoch 40/50\n",
      "13/13 [==============================] - 20s 1s/step - loss: 0.0508 - accuracy: 0.9856 - val_loss: 0.2725 - val_accuracy: 0.8955\n",
      "Epoch 41/50\n",
      "13/13 [==============================] - 22s 2s/step - loss: 0.0987 - accuracy: 0.9688 - val_loss: 0.5491 - val_accuracy: 0.8209\n",
      "Epoch 42/50\n",
      "13/13 [==============================] - 20s 2s/step - loss: 0.0967 - accuracy: 0.9663 - val_loss: 0.3946 - val_accuracy: 0.7761\n",
      "Epoch 43/50\n",
      "13/13 [==============================] - 20s 2s/step - loss: 0.0625 - accuracy: 0.9760 - val_loss: 0.2529 - val_accuracy: 0.9328\n",
      "Epoch 44/50\n",
      "13/13 [==============================] - 19s 1s/step - loss: 0.0821 - accuracy: 0.9736 - val_loss: 0.2956 - val_accuracy: 0.8955\n",
      "Epoch 45/50\n",
      "13/13 [==============================] - 20s 1s/step - loss: 0.0677 - accuracy: 0.9760 - val_loss: 0.2492 - val_accuracy: 0.9179\n",
      "Epoch 46/50\n",
      "13/13 [==============================] - 20s 2s/step - loss: 0.0567 - accuracy: 0.9880 - val_loss: 0.4568 - val_accuracy: 0.8657\n",
      "Epoch 47/50\n",
      "13/13 [==============================] - 18s 1s/step - loss: 0.1159 - accuracy: 0.9615 - val_loss: 0.2954 - val_accuracy: 0.8806\n",
      "Epoch 48/50\n",
      "13/13 [==============================] - 20s 2s/step - loss: 0.0621 - accuracy: 0.9760 - val_loss: 0.2380 - val_accuracy: 0.8955\n",
      "Epoch 49/50\n",
      "13/13 [==============================] - 19s 1s/step - loss: 0.0528 - accuracy: 0.9856 - val_loss: 0.2408 - val_accuracy: 0.8881\n",
      "Epoch 50/50\n",
      "13/13 [==============================] - 20s 2s/step - loss: 0.0373 - accuracy: 0.9880 - val_loss: 0.2310 - val_accuracy: 0.9104\n"
     ]
    }
   ],
   "source": [
    "r = model.fit_generator(\n",
    "  training_set,\n",
    "  validation_data=test_set,\n",
    "  epochs=50,\n",
    "  steps_per_epoch=len(training_set),\n",
    "  validation_steps=len(test_set)\n",
    ")"
   ]
  },
  {
   "cell_type": "code",
   "execution_count": 18,
   "metadata": {},
   "outputs": [
    {
     "data": {
      "image/png": "[encoded data removed]",
      "text/plain": [
       "<Figure size 432x288 with 1 Axes>"
      ]
     },
     "metadata": {
      "needs_background": "light"
     },
     "output_type": "display_data"
    },
    {
     "data": {
      "image/png": "[encoded data removed]",
      "text/plain": [
       "<Figure size 432x288 with 1 Axes>"
      ]
     },
     "metadata": {
      "needs_background": "light"
     },
     "output_type": "display_data"
    },
    {
     "data": {
      "text/plain": [
       "<Figure size 432x288 with 0 Axes>"
      ]
     },
     "metadata": {},
     "output_type": "display_data"
    }
   ],
   "source": [
    "# plot the loss\n",
    "plt.plot(r.history['loss'], label='train loss')\n",
    "plt.plot(r.history['val_loss'], label='val loss')\n",
    "plt.legend()\n",
    "plt.show()\n",
    "plt.savefig('LossVal_loss')\n",
    "\n",
    "# plot the accuracy\n",
    "plt.plot(r.history['accuracy'], label='train acc')\n",
    "plt.plot(r.history['val_accuracy'], label='val acc')\n",
    "plt.legend()\n",
    "plt.show()\n",
    "plt.savefig('AccVal_acc')"
   ]
  },
  {
   "cell_type": "code",
   "execution_count": 19,
   "metadata": {},
   "outputs": [],
   "source": [
    "from tensorflow.keras.models import load_model\n",
    "\n",
    "model.save('model_vgg19.h5')"
   ]
  },
  {
   "cell_type": "code",
   "execution_count": 20,
   "metadata": {},
   "outputs": [],
   "source": [
    "\n",
    "y_pred = model.predict(test_set)\n"
   ]
  },
  {
   "cell_type": "code",
   "execution_count": 21,
   "metadata": {
    "scrolled": false
   },
   "outputs": [
    {
     "data": {
      "text/plain": [
       "array([[1.0000000e+00, 1.3906894e-15],\n",
       "       [2.1553764e-01, 7.8446233e-01],\n",
       "       [1.4856641e-02, 9.8514336e-01],\n",
       "       [9.9995470e-01, 4.5333236e-05],\n",
       "       [1.0000000e+00, 1.5708472e-10],\n",
       "       [8.1078343e-02, 9.1892165e-01],\n",
       "       [8.0609387e-03, 9.9193901e-01],\n",
       "       [9.9999905e-01, 9.6339966e-07],\n",
       "       [2.5148217e-02, 9.7485173e-01],\n",
       "       [8.1108371e-03, 9.9188918e-01],\n",
       "       [1.2037159e-02, 9.8796290e-01],\n",
       "       [2.0768931e-03, 9.9792320e-01],\n",
       "       [1.0000000e+00, 1.6619925e-10],\n",
       "       [5.8592431e-02, 9.4140756e-01],\n",
       "       [9.9998939e-01, 1.0636869e-05],\n",
       "       [4.5084417e-02, 9.5491558e-01],\n",
       "       [9.9998260e-01, 1.7419648e-05],\n",
       "       [4.9346101e-01, 5.0653899e-01],\n",
       "       [1.0000000e+00, 2.4525569e-11],\n",
       "       [9.9946636e-01, 5.3366617e-04],\n",
       "       [1.0000000e+00, 1.5653154e-12],\n",
       "       [9.9996912e-01, 3.0865889e-05],\n",
       "       [1.0107214e-02, 9.8989278e-01],\n",
       "       [9.9999845e-01, 1.5426923e-06],\n",
       "       [9.5494371e-04, 9.9904507e-01],\n",
       "       [9.9999964e-01, 3.6284962e-07],\n",
       "       [1.1504879e-02, 9.8849517e-01],\n",
       "       [9.9999809e-01, 1.9096392e-06],\n",
       "       [9.2257194e-02, 9.0774280e-01],\n",
       "       [6.8535429e-01, 3.1464568e-01],\n",
       "       [9.9997103e-01, 2.8957851e-05],\n",
       "       [5.2630341e-01, 4.7369662e-01],\n",
       "       [1.0000000e+00, 1.8423614e-18],\n",
       "       [9.9999070e-01, 9.3034550e-06],\n",
       "       [1.0000000e+00, 6.6323764e-09],\n",
       "       [9.9995208e-01, 4.7952923e-05],\n",
       "       [1.0000000e+00, 5.1627000e-09],\n",
       "       [1.0000000e+00, 3.2673578e-10],\n",
       "       [2.1624954e-02, 9.7837502e-01],\n",
       "       [1.7286563e-02, 9.8271346e-01],\n",
       "       [1.0000000e+00, 1.2193457e-08],\n",
       "       [2.2798773e-02, 9.7720122e-01],\n",
       "       [1.0000000e+00, 1.9561805e-15],\n",
       "       [1.0000000e+00, 1.8975856e-09],\n",
       "       [5.6817949e-02, 9.4318199e-01],\n",
       "       [9.9999869e-01, 1.2679283e-06],\n",
       "       [8.6494941e-01, 1.3505055e-01],\n",
       "       [9.9911529e-01, 8.8471046e-04],\n",
       "       [9.9965823e-01, 3.4177629e-04],\n",
       "       [1.0000000e+00, 6.6060789e-20],\n",
       "       [9.9999976e-01, 2.9393769e-07],\n",
       "       [9.9999297e-01, 7.0102401e-06],\n",
       "       [9.9999690e-01, 3.1535947e-06],\n",
       "       [1.0000000e+00, 9.0960909e-13],\n",
       "       [4.4622454e-03, 9.9553776e-01],\n",
       "       [3.0224508e-02, 9.6977544e-01],\n",
       "       [9.9999845e-01, 1.5466505e-06],\n",
       "       [1.0000000e+00, 1.4656170e-08],\n",
       "       [3.6371085e-01, 6.3628912e-01],\n",
       "       [1.9102352e-02, 9.8089761e-01],\n",
       "       [9.6908193e-03, 9.9030918e-01],\n",
       "       [9.7647047e-01, 2.3529537e-02],\n",
       "       [9.9647897e-01, 3.5210436e-03],\n",
       "       [9.9997997e-01, 2.0027195e-05],\n",
       "       [1.0000000e+00, 8.1943396e-29],\n",
       "       [1.0000000e+00, 1.2750775e-09],\n",
       "       [1.0000000e+00, 2.5285799e-23],\n",
       "       [2.7736285e-01, 7.2263718e-01],\n",
       "       [3.5536876e-03, 9.9644631e-01],\n",
       "       [3.4896384e-03, 9.9651033e-01],\n",
       "       [3.0517237e-02, 9.6948278e-01],\n",
       "       [3.4133156e-03, 9.9658668e-01],\n",
       "       [9.9074805e-01, 9.2519326e-03],\n",
       "       [1.0000000e+00, 3.6476297e-10],\n",
       "       [9.9859577e-01, 1.4042432e-03],\n",
       "       [1.0000000e+00, 1.8683834e-13],\n",
       "       [9.9999774e-01, 2.3181583e-06],\n",
       "       [2.2980111e-02, 9.7701991e-01],\n",
       "       [3.3191763e-02, 9.6680820e-01],\n",
       "       [9.9999988e-01, 1.6874868e-07],\n",
       "       [3.7937870e-03, 9.9620616e-01],\n",
       "       [2.2631310e-02, 9.7736871e-01],\n",
       "       [1.0000000e+00, 7.8676743e-24],\n",
       "       [9.9920291e-01, 7.9713209e-04],\n",
       "       [1.0000000e+00, 9.2563023e-13],\n",
       "       [5.2504164e-01, 4.7495839e-01],\n",
       "       [9.9926823e-01, 7.3174771e-04],\n",
       "       [2.9765753e-02, 9.7023422e-01],\n",
       "       [1.0000000e+00, 2.7129157e-15],\n",
       "       [1.0000000e+00, 7.7725488e-15],\n",
       "       [9.9991918e-01, 8.0848906e-05],\n",
       "       [9.9986005e-01, 1.3993372e-04],\n",
       "       [1.0000000e+00, 1.9966770e-19],\n",
       "       [2.6618585e-02, 9.7338146e-01],\n",
       "       [9.6962890e-03, 9.9030370e-01],\n",
       "       [9.9996126e-01, 3.8759856e-05],\n",
       "       [2.4249032e-02, 9.7575092e-01],\n",
       "       [1.0000000e+00, 2.4584317e-17],\n",
       "       [9.9997711e-01, 2.2883360e-05],\n",
       "       [4.0959377e-02, 9.5904070e-01],\n",
       "       [2.9831002e-02, 9.7016901e-01],\n",
       "       [1.0000000e+00, 8.6301375e-18],\n",
       "       [1.0000000e+00, 3.4004264e-13],\n",
       "       [4.0081069e-02, 9.5991898e-01],\n",
       "       [4.3724822e-03, 9.9562752e-01],\n",
       "       [4.7111465e-03, 9.9528885e-01],\n",
       "       [9.9999940e-01, 6.3193664e-07],\n",
       "       [9.9997115e-01, 2.8850927e-05],\n",
       "       [4.2137304e-01, 5.7862693e-01],\n",
       "       [9.4242597e-01, 5.7574078e-02],\n",
       "       [9.7440368e-01, 2.5596289e-02],\n",
       "       [5.9439926e-03, 9.9405599e-01],\n",
       "       [5.0496977e-02, 9.4950306e-01],\n",
       "       [5.7941961e-01, 4.2058036e-01],\n",
       "       [1.0000000e+00, 2.2348265e-10],\n",
       "       [7.3902440e-01, 2.6097563e-01],\n",
       "       [1.0640550e-03, 9.9893600e-01],\n",
       "       [9.3672401e-01, 6.3276008e-02],\n",
       "       [4.1213180e-03, 9.9587870e-01],\n",
       "       [9.9999881e-01, 1.2158828e-06],\n",
       "       [8.1445156e-03, 9.9185550e-01],\n",
       "       [1.0000000e+00, 1.9279259e-11],\n",
       "       [9.9999571e-01, 4.3161695e-06],\n",
       "       [9.9878186e-01, 1.2181445e-03],\n",
       "       [3.8982939e-02, 9.6101701e-01],\n",
       "       [9.4220358e-01, 5.7796374e-02],\n",
       "       [1.1098972e-02, 9.8890102e-01],\n",
       "       [9.9999964e-01, 3.4359877e-07],\n",
       "       [5.6862360e-01, 4.3137646e-01],\n",
       "       [1.0348867e-01, 8.9651132e-01],\n",
       "       [1.0000000e+00, 4.0427484e-08],\n",
       "       [4.5251185e-01, 5.4748815e-01],\n",
       "       [1.0000000e+00, 1.0238302e-10],\n",
       "       [2.1170698e-01, 7.8829306e-01]], dtype=float32)"
      ]
     },
     "execution_count": 21,
     "metadata": {},
     "output_type": "execute_result"
    }
   ],
   "source": [
    "y_pred"
   ]
  },
  {
   "cell_type": "code",
   "execution_count": 22,
   "metadata": {},
   "outputs": [],
   "source": [
    "import numpy as np\n",
    "y_pred = np.argmax(y_pred, axis=1)"
   ]
  },
  {
   "cell_type": "code",
   "execution_count": 23,
   "metadata": {},
   "outputs": [
    {
     "data": {
      "text/plain": [
       "array([0, 1, 1, 0, 0, 1, 1, 0, 1, 1, 1, 1, 0, 1, 0, 1, 0, 1, 0, 0, 0, 0,\n",
       "       1, 0, 1, 0, 1, 0, 1, 0, 0, 0, 0, 0, 0, 0, 0, 0, 1, 1, 0, 1, 0, 0,\n",
       "       1, 0, 0, 0, 0, 0, 0, 0, 0, 0, 1, 1, 0, 0, 1, 1, 1, 0, 0, 0, 0, 0,\n",
       "       0, 1, 1, 1, 1, 1, 0, 0, 0, 0, 0, 1, 1, 0, 1, 1, 0, 0, 0, 0, 0, 1,\n",
       "       0, 0, 0, 0, 0, 1, 1, 0, 1, 0, 0, 1, 1, 0, 0, 1, 1, 1, 0, 0, 1, 0,\n",
       "       0, 1, 1, 0, 0, 0, 1, 0, 1, 0, 1, 0, 0, 0, 1, 0, 1, 0, 0, 1, 0, 1,\n",
       "       0, 1], dtype=int64)"
      ]
     },
     "execution_count": 23,
     "metadata": {},
     "output_type": "execute_result"
    }
   ],
   "source": [
    "y_pred"
   ]
  },
  {
   "cell_type": "code",
   "execution_count": 24,
   "metadata": {},
   "outputs": [],
   "source": [
    "from tensorflow.keras.models import load_model\n",
    "from tensorflow.keras.preprocessing import image"
   ]
  },
  {
   "cell_type": "code",
   "execution_count": 25,
   "metadata": {},
   "outputs": [],
   "source": [
    "model=load_model('model_vgg19.h5')"
   ]
  },
  {
   "cell_type": "code",
   "execution_count": 26,
   "metadata": {},
   "outputs": [],
   "source": [
    "img=image.load_img('Dataset/Test/Uninfected/2.png',target_size=(224,224))\n",
    "\n"
   ]
  },
  {
   "cell_type": "code",
   "execution_count": 27,
   "metadata": {},
   "outputs": [
    {
     "data": {
      "text/plain": [
       "array([[[0., 0., 0.],\n",
       "        [0., 0., 0.],\n",
       "        [0., 0., 0.],\n",
       "        ...,\n",
       "        [0., 0., 0.],\n",
       "        [0., 0., 0.],\n",
       "        [0., 0., 0.]],\n",
       "\n",
       "       [[0., 0., 0.],\n",
       "        [0., 0., 0.],\n",
       "        [0., 0., 0.],\n",
       "        ...,\n",
       "        [0., 0., 0.],\n",
       "        [0., 0., 0.],\n",
       "        [0., 0., 0.]],\n",
       "\n",
       "       [[0., 0., 0.],\n",
       "        [0., 0., 0.],\n",
       "        [0., 0., 0.],\n",
       "        ...,\n",
       "        [0., 0., 0.],\n",
       "        [0., 0., 0.],\n",
       "        [0., 0., 0.]],\n",
       "\n",
       "       ...,\n",
       "\n",
       "       [[0., 0., 0.],\n",
       "        [0., 0., 0.],\n",
       "        [0., 0., 0.],\n",
       "        ...,\n",
       "        [0., 0., 0.],\n",
       "        [0., 0., 0.],\n",
       "        [0., 0., 0.]],\n",
       "\n",
       "       [[0., 0., 0.],\n",
       "        [0., 0., 0.],\n",
       "        [0., 0., 0.],\n",
       "        ...,\n",
       "        [0., 0., 0.],\n",
       "        [0., 0., 0.],\n",
       "        [0., 0., 0.]],\n",
       "\n",
       "       [[0., 0., 0.],\n",
       "        [0., 0., 0.],\n",
       "        [0., 0., 0.],\n",
       "        ...,\n",
       "        [0., 0., 0.],\n",
       "        [0., 0., 0.],\n",
       "        [0., 0., 0.]]], dtype=float32)"
      ]
     },
     "execution_count": 27,
     "metadata": {},
     "output_type": "execute_result"
    }
   ],
   "source": [
    "x=image.img_to_array(img)\n",
    "x"
   ]
  },
  {
   "cell_type": "code",
   "execution_count": 28,
   "metadata": {},
   "outputs": [
    {
     "data": {
      "text/plain": [
       "(224, 224, 3)"
      ]
     },
     "execution_count": 28,
     "metadata": {},
     "output_type": "execute_result"
    }
   ],
   "source": [
    "x.shape"
   ]
  },
  {
   "cell_type": "code",
   "execution_count": 29,
   "metadata": {},
   "outputs": [],
   "source": [
    "x=x/255"
   ]
  },
  {
   "cell_type": "code",
   "execution_count": 30,
   "metadata": {},
   "outputs": [
    {
     "data": {
      "text/plain": [
       "(1, 224, 224, 3)"
      ]
     },
     "execution_count": 30,
     "metadata": {},
     "output_type": "execute_result"
    }
   ],
   "source": [
    "x=np.expand_dims(x,axis=0)\n",
    "img_data=preprocess_input(x)\n",
    "img_data.shape"
   ]
  },
  {
   "cell_type": "code",
   "execution_count": 31,
   "metadata": {},
   "outputs": [
    {
     "data": {
      "text/plain": [
       "array([[1., 0.]], dtype=float32)"
      ]
     },
     "execution_count": 31,
     "metadata": {},
     "output_type": "execute_result"
    }
   ],
   "source": [
    "model.predict(img_data)"
   ]
  },
  {
   "cell_type": "code",
   "execution_count": 32,
   "metadata": {},
   "outputs": [],
   "source": [
    "a=np.argmax(model.predict(img_data), axis=1)"
   ]
  },
  {
   "cell_type": "code",
   "execution_count": 36,
   "metadata": {},
   "outputs": [
    {
     "name": "stdout",
     "output_type": "stream",
     "text": [
      "Infected\n"
     ]
    }
   ],
   "source": [
    "if(a==1):\n",
    "    print(\"Uninfected\")\n",
    "else:\n",
    "    print(\"Infected\")"
   ]
  },
  {
   "cell_type": "code",
   "execution_count": null,
   "metadata": {},
   "outputs": [],
   "source": []
  },
  {
   "cell_type": "code",
   "execution_count": null,
   "metadata": {},
   "outputs": [],
   "source": []
  }
 ],
 "metadata": {
  "kernelspec": {
   "display_name": "Python 3",
   "language": "python",
   "name": "python3"
  },
  "language_info": {
   "codemirror_mode": {
    "name": "ipython",
    "version": 3
   },
   "file_extension": ".py",
   "mimetype": "text/x-python",
   "name": "python",
   "nbconvert_exporter": "python",
   "pygments_lexer": "ipython3",
   "version": "3.7.6"
  }
 },
 "nbformat": 4,
 "nbformat_minor": 2
}
